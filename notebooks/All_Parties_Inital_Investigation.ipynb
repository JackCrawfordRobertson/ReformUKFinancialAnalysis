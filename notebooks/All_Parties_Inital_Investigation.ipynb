{
 "cells": [
  {
   "cell_type": "code",
   "execution_count": null,
   "metadata": {},
   "outputs": [],
   "source": [
    "import pandas as pd\n",
    "import numpy as np\n",
    "import matplotlib.pyplot as plt\n",
    "\n",
    "# Load the combined data\n",
    "file_path = '../data/Combine_Electoral_Commission_Results.csv'\n",
    "data = pd.read_csv(file_path)\n",
    "\n",
    "# Chart 1: Total Investment by Political Parties\n",
    "# Filter the data for the relevant parties\n",
    "parties_of_interest = ['Conservative and Unionist Party', 'Reform UK', 'Labour Party', 'Liberal Democrats', 'Green Party']\n",
    "filtered_data = data[data['RegulatedEntityName'].isin(parties_of_interest)]\n",
    "\n",
    "# Clean the 'Value' column\n",
    "filtered_data['Value'] = filtered_data['Value'].replace('[\\£,]', '', regex=True).astype(float)\n",
    "\n",
    "# Summarize total investments by party\n",
    "party_investment_summary = filtered_data.groupby('RegulatedEntityName')['Value'].sum().reset_index()\n",
    "\n",
    "# Create the comparative stacked chart\n",
    "plt.figure(figsize=(10, 6))\n",
    "plt.bar(party_investment_summary['RegulatedEntityName'], party_investment_summary['Value'], color=['blue', 'green', 'red', 'orange', 'purple'])\n",
    "plt.title('Total Investment by Political Parties')\n",
    "plt.xlabel('Political Party')\n",
    "plt.ylabel('Total Investment (£)')\n",
    "plt.show()"
   ]
  }
 ],
 "metadata": {
  "kernelspec": {
   "display_name": "ReformUKFinancialAnalysis",
   "language": "python",
   "name": "python3"
  },
  "language_info": {
   "name": "python",
   "version": "3.8.19"
  }
 },
 "nbformat": 4,
 "nbformat_minor": 2
}
