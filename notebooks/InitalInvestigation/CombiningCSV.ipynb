{
 "cells": [
  {
   "cell_type": "code",
   "execution_count": 6,
   "metadata": {},
   "outputs": [
    {
     "name": "stdout",
     "output_type": "stream",
     "text": [
      "      ECRef RegulatedEntityName RegulatedEntityType       Value  AcceptedDate  \\\n",
      "0  C0578579   Liberal Democrats     Political Party  £25,000.00           NaN   \n",
      "1  C0578574   Liberal Democrats     Political Party  £20,000.00           NaN   \n",
      "2  C0578752   Liberal Democrats     Political Party  £20,000.00           NaN   \n",
      "3  C0578581   Liberal Democrats     Political Party  £75,000.00           NaN   \n",
      "4  C0578810   Liberal Democrats     Political Party  £12,500.00           NaN   \n",
      "\n",
      "  AccountingUnitName                             DonorName  \\\n",
      "0      Central Party  OLD BROAD STREET ACCOUNTANTS LIMITED   \n",
      "1      Central Party                     Giles C Archibald   \n",
      "2      Central Party              DONLOW FININVEST LIMITED   \n",
      "3      Central Party          ADAM MANAGEMENT HOLDINGS LTD   \n",
      "4      Central Party               Nagwa Msa Abdelmottaleb   \n",
      "\n",
      "   AccountingUnitsAsCentralParty  IsSponsorship DonorStatus  ...  \\\n",
      "0                          False          False     Company  ...   \n",
      "1                          False          False  Individual  ...   \n",
      "2                          False          False     Company  ...   \n",
      "3                          False          False     Company  ...   \n",
      "4                          False          False  Individual  ...   \n",
      "\n",
      "   IsReportedPrePoll                                ReportingPeriodName  \\\n",
      "0                NaN  Pre-Poll 1 - Party(30/05/24 - 05/06/24) UKPGE ...   \n",
      "1                NaN  Pre-Poll 1 - Party(30/05/24 - 05/06/24) UKPGE ...   \n",
      "2                NaN  Pre-Poll 3 - Party(13/06/24 - 19/06/24) UKPGE ...   \n",
      "3                NaN  Pre-Poll 1 - Party(30/05/24 - 05/06/24) UKPGE ...   \n",
      "4                NaN  Pre-Poll 4 - Party(20/06/24 - 26/06/24) UKPGE ...   \n",
      "\n",
      "  IsBequest IsAggregation RegulatedEntityId  AccountingUnitId  DonorId  \\\n",
      "0     False         False                90               NaN   100578   \n",
      "1     False         False                90               NaN    34514   \n",
      "2     False         False                90               NaN   100646   \n",
      "3     False         False                90               NaN    99652   \n",
      "4     False         False                90               NaN    95034   \n",
      "\n",
      "  CampaigningName   RegisterName  IsIrishSource  \n",
      "0             NaN  Great Britain          False  \n",
      "1             NaN  Great Britain          False  \n",
      "2             NaN  Great Britain          False  \n",
      "3             NaN  Great Britain          False  \n",
      "4             NaN  Great Britain          False  \n",
      "\n",
      "[5 rows x 29 columns]\n"
     ]
    }
   ],
   "source": [
    "import pandas as pd\n",
    "import os\n",
    "\n",
    "# Adjust file paths as necessary\n",
    "file1_path = '../data/Election Resultslibral democrats.csv'\n",
    "file2_path = '../data/Combine_Electoral_Commission_Results.csv'\n",
    "\n",
    "# Load the CSV files\n",
    "file1 = pd.read_csv(file1_path)\n",
    "file2 = pd.read_csv(file2_path)\n",
    "\n",
    "# Combine the dataframes\n",
    "combined_df = pd.concat([file1, file2], ignore_index=True)\n",
    "\n",
    "# Create the directory if it does not exist\n",
    "output_directory = 'data'\n",
    "if not os.path.exists(output_directory):\n",
    "    os.makedirs(output_directory)\n",
    "\n",
    "# Save the combined dataframe to a new CSV file\n",
    "combined_file_path = os.path.join(output_directory, 'Combined_Election_Results_Final.csv')\n",
    "combined_df.to_csv(combined_file_path, index=False)\n",
    "\n",
    "# Verify the first few rows of the combined dataframe\n",
    "print(combined_df.head())\n"
   ]
  },
  {
   "cell_type": "code",
   "execution_count": null,
   "metadata": {},
   "outputs": [],
   "source": []
  }
 ],
 "metadata": {
  "kernelspec": {
   "display_name": "ReformUKFinancialAnalysis",
   "language": "python",
   "name": "python3"
  },
  "language_info": {
   "codemirror_mode": {
    "name": "ipython",
    "version": 3
   },
   "file_extension": ".py",
   "mimetype": "text/x-python",
   "name": "python",
   "nbconvert_exporter": "python",
   "pygments_lexer": "ipython3",
   "version": "3.8.19"
  }
 },
 "nbformat": 4,
 "nbformat_minor": 2
}
